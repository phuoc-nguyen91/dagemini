{
 "cells": [
  {
   "cell_type": "code",
   "execution_count": 78,
   "metadata": {},
   "outputs": [],
   "source": [
    "from langchain_experimental.agents.agent_toolkits.pandas.base import create_pandas_dataframe_agent\n",
    "from langchain_google_genai import chat_models\n",
    "from langchain_google_vertexai import VertexAI\n",
    "from langchain_google_genai import ChatGoogleGenerativeAI\n",
    "import pandas as pd\n",
    "import matplotlib.pyplot as plt\n"
   ]
  },
  {
   "cell_type": "code",
   "execution_count": 79,
   "metadata": {},
   "outputs": [],
   "source": [
    "import sys\n",
    "sys.path.append(\"C:/Users/LENOVO/dagemini\")\n",
    "from src.models.llms import load_llm"
   ]
  },
  {
   "cell_type": "code",
   "execution_count": 80,
   "metadata": {},
   "outputs": [
    {
     "data": {
      "text/plain": [
       "ChatVertexAI(project='lateral-pathway-435802-i3', model_name='gemini-1.5-flash-002', full_model_name='projects/lateral-pathway-435802-i3/locations/us-central1/publishers/google/models/gemini-1.5-flash-002', client_options=ClientOptions: {'api_endpoint': 'us-central1-aiplatform.googleapis.com', 'client_cert_source': None, 'client_encrypted_cert_source': None, 'quota_project_id': None, 'credentials_file': None, 'scopes': None, 'api_key': None, 'api_audience': None, 'universe_domain': None}, default_metadata=(), temperature=0.0, max_output_tokens=1000, model_family=<GoogleModelFamily.GEMINI_ADVANCED: '2'>)"
      ]
     },
     "execution_count": 80,
     "metadata": {},
     "output_type": "execute_result"
    }
   ],
   "source": [
    "MODEL_NAME = \"gemini-1.5-pro-002\"\n",
    "llm =  load_llm(model_name = MODEL_NAME)\n",
    "llm"
   ]
  },
  {
   "cell_type": "code",
   "execution_count": null,
   "metadata": {},
   "outputs": [],
   "source": [
    "llm.invoke(\"Hello, Who Are You?\")"
   ]
  },
  {
   "cell_type": "code",
   "execution_count": 87,
   "metadata": {},
   "outputs": [
    {
     "data": {
      "text/plain": [
       "AgentExecutor(verbose=True, agent=RunnableAgent(runnable=RunnableAssign(mapper={\n",
       "  agent_scratchpad: RunnableLambda(lambda x: format_log_to_str(x['intermediate_steps']))\n",
       "})\n",
       "| PromptTemplate(input_variables=['agent_scratchpad', 'input'], input_types={}, partial_variables={'df_head': '|    | Store Name   | Date      | Product   |   Unit Price |   Sales |   Revenue |   Stock Quantity |    Profit | Store Address   | Postal Code   |\\n|---:|:-------------|:----------|:----------|-------------:|--------:|----------:|-----------------:|----------:|:----------------|:--------------|\\n|  0 | 7-Eleven     | 2023/1/8  | Bakery    |       623.95 |      33 |  20590.3  |               67 |  8236.14  | Osaka, Japan    | 530-0001      |\\n|  1 | 7-Eleven     | 2023/1/23 | Bakery    |       714.97 |      40 |  28598.8  |               46 | 11439.5   | Osaka, Japan    | 530-0001      |\\n|  2 | 7-Eleven     | 2023/2/2  | Bakery    |       174.14 |      41 |   7139.74 |               79 |  2855.9   | Osaka, Japan    | 530-0001      |\\n|  3 | 7-Eleven     | 2023/3/8  | Bakery    |       816.88 |      44 |  35942.7  |               37 | 14377.1   | Osaka, Japan    | 530-0001      |\\n|  4 | 7-Eleven     | 2023/1/29 | Beef Bowl |       247.26 |       9 |   2225.34 |               23 |   890.136 | Osaka, Japan    | 530-0001      |', 'tools': 'python_repl_ast - A Python shell. Use this to execute python commands. Input should be a valid python command. When using this tool, sometimes output is abbreviated - make sure it does not look abbreviated before using it in your answer.', 'tool_names': 'python_repl_ast'}, template='\\nYou are working with a pandas dataframe in Python. The name of the dataframe is `df`.\\nYou should use the tools below to answer the question posed of you:\\n\\n{tools}\\n\\nUse the following format:\\n\\nQuestion: the input question you must answer\\nThought: you should always think about what to do\\nAction: the action to take, should be one of [{tool_names}]\\nAction Input: the input to the action\\nObservation: the result of the action\\n... (this Thought/Action/Action Input/Observation can repeat N times)\\nThought: I now know the final answer\\nFinal Answer: the final answer to the original input question\\n\\n\\nThis is the result of `print(df.head())`:\\n{df_head}\\n\\nBegin!\\nQuestion: {input}\\n{agent_scratchpad}')\n",
       "| RunnableBinding(bound=ChatVertexAI(client=<google.cloud.aiplatform_v1beta1.services.prediction_service.client.PredictionServiceClient object at 0x00000246B1717160>, project='lateral-pathway-435802-i3', model_name='gemini-1.5-flash-002', full_model_name='projects/lateral-pathway-435802-i3/locations/us-central1/publishers/google/models/gemini-1.5-flash-002', client_options=ClientOptions: {'api_endpoint': 'us-central1-aiplatform.googleapis.com', 'client_cert_source': None, 'client_encrypted_cert_source': None, 'quota_project_id': None, 'credentials_file': None, 'scopes': None, 'api_key': None, 'api_audience': None, 'universe_domain': None}, default_metadata=(), temperature=0.0, max_output_tokens=1000, model_family=<GoogleModelFamily.GEMINI_ADVANCED: '2'>), kwargs={'stop': ['\\nObservation']}, config={}, config_factories=[])\n",
       "| ReActSingleInputOutputParser(), input_keys_arg=['input'], return_keys_arg=['output'], stream_runnable=True), tools=[PythonAstREPLTool(globals={}, locals={'df':     Store Name       Date    Product  Unit Price  Sales   Revenue  \\\n",
       "0     7-Eleven   2023/1/8     Bakery      623.95     33  20590.35   \n",
       "1     7-Eleven  2023/1/23     Bakery      714.97     40  28598.80   \n",
       "2     7-Eleven   2023/2/2     Bakery      174.14     41   7139.74   \n",
       "3     7-Eleven   2023/3/8     Bakery      816.88     44  35942.72   \n",
       "4     7-Eleven  2023/1/29  Beef Bowl      247.26      9   2225.34   \n",
       "..         ...        ...        ...         ...    ...       ...   \n",
       "95  FamilyMart   2023/2/4     Snacks      689.06      8   5512.48   \n",
       "96  FamilyMart  2023/3/15     Snacks      542.44     32  17358.08   \n",
       "97  FamilyMart  2023/3/19     Snacks      817.80     10   8178.00   \n",
       "98  FamilyMart  2023/3/20     Snacks      379.33     35  13276.55   \n",
       "99  FamilyMart  2023/1/25  Spaghetti      346.26      3   1038.78   \n",
       "\n",
       "    Stock Quantity     Profit Store Address Postal Code  \n",
       "0               67   8236.140  Osaka, Japan    530-0001  \n",
       "1               46  11439.520  Osaka, Japan    530-0001  \n",
       "2               79   2855.896  Osaka, Japan    530-0001  \n",
       "3               37  14377.088  Osaka, Japan    530-0001  \n",
       "4               23    890.136  Osaka, Japan    530-0001  \n",
       "..             ...        ...           ...         ...  \n",
       "95              98   2204.992  Tokyo, Japan    100-0001  \n",
       "96              65   6943.232  Tokyo, Japan    100-0001  \n",
       "97              70   3271.200  Tokyo, Japan    100-0001  \n",
       "98              29   5310.620  Tokyo, Japan    100-0001  \n",
       "99              47    415.512  Tokyo, Japan    100-0001  \n",
       "\n",
       "[100 rows x 10 columns]})], return_intermediate_steps=True)"
      ]
     },
     "execution_count": 87,
     "metadata": {},
     "output_type": "execute_result"
    }
   ],
   "source": [
    "df = pd.read_csv(\"../data/raw/sample_data.csv\")\n",
    "da_agent = create_pandas_dataframe_agent(\n",
    "                llm=llm,\n",
    "                df=df,\n",
    "                #agent_type=\"tool-calling\",\n",
    "                #agent_type=AgentType.ZERO_SHOT_REACT_DESCRIPTION,  # Thêm dòng này\n",
    "                allow_dangerous_code=True,\n",
    "                verbose=True,\n",
    "                return_intermediate_steps=True,\n",
    "                # handle_parsing_errors=True,  # Thêm dòng này\n",
    "                # stream_runnable=True  # Dùng stream để nhận kết quả từng phần\n",
    "\n",
    "            )\n",
    "da_agent\n"
   ]
  },
  {
   "cell_type": "code",
   "execution_count": 88,
   "metadata": {},
   "outputs": [
    {
     "name": "stdout",
     "output_type": "stream",
     "text": [
      "['output', 'intermediate_steps']\n",
      "['input']\n"
     ]
    }
   ],
   "source": [
    "print(da_agent.output_keys)  # In ra các khóa đầu ra\n",
    "print(da_agent.input_keys)   # In ra các khóa đầu vào"
   ]
  },
  {
   "cell_type": "code",
   "execution_count": 90,
   "metadata": {},
   "outputs": [
    {
     "name": "stdout",
     "output_type": "stream",
     "text": [
      "\n",
      "\n",
      "\u001b[1m> Entering new AgentExecutor chain...\u001b[0m\n",
      "\u001b[32;1m\u001b[1;3mThought: I need to calculate some descriptive statistics for the numerical columns in the dataframe.\n",
      "Action: python_repl_ast\n",
      "Action Input: \n",
      "```python\n",
      "import pandas as pd\n",
      "data = {'Store Name': {0: '7-Eleven', 1: '7-Eleven', 2: '7-Eleven', 3: '7-Eleven', 4: '7-Eleven'}, 'Date': {0: '2023/1/8', 1: '2023/1/23', 2: '2023/2/2', 3: '2023/3/8', 4: '2023/1/29'}, 'Product': {0: 'Bakery', 1: 'Bakery', 2: 'Bakery', 3: 'Bakery', 4: 'Beef Bowl'}, 'Unit Price': {0: 623.95, 1: 714.97, 2: 174.14, 3: 816.88, 4: 247.26}, 'Sales': {0: 33, 1: 40, 2: 41, 3: 44, 4: 9}, 'Revenue': {0: 20590.3, 1: 28598.8, 2: 7139.74, 3: 35942.7, 4: 2225.34}, 'Stock Quantity': {0: 67, 1: 46, 2: 79, 3: 37, 4: 23}, 'Profit': {0: 8236.14, 1: 11439.5, 2: 2855.9, 3: 14377.1, 4: 890.136}, 'Store Address': {0: 'Osaka, Japan', 1: 'Osaka, Japan', 2: 'Osaka, Japan', 3: 'Osaka, Japan', 4: 'Osaka, Japan'}, 'Postal Code': {0: '530-0001', 1: '530-0001', 2: '530-0001', 3: '530-0001', 4: '530-0001'}}\n",
      "df = pd.DataFrame(data)\n",
      "df.describe()\n",
      "```\u001b[0m\u001b[36;1m\u001b[1;3m       Unit Price     Sales       Revenue  Stock Quantity        Profit\n",
      "count    5.000000   5.00000      5.000000        5.000000      5.000000\n",
      "mean   515.440000  33.40000  18899.376000       50.400000   7559.755200\n",
      "std    287.601685  14.22322  14175.026087       22.600885   5670.012792\n",
      "min    174.140000   9.00000   2225.340000       23.000000    890.136000\n",
      "25%    247.260000  33.00000   7139.740000       37.000000   2855.900000\n",
      "50%    623.950000  40.00000  20590.300000       46.000000   8236.140000\n",
      "75%    714.970000  41.00000  28598.800000       67.000000  11439.500000\n",
      "max    816.880000  44.00000  35942.700000       79.000000  14377.100000\u001b[0m\u001b[32;1m\u001b[1;3mI now know the final answer\n",
      "Final Answer: The descriptive statistics show the count, mean, standard deviation, minimum, 25th percentile, 50th percentile (median), 75th percentile, and maximum for the numerical columns ('Unit Price', 'Sales', 'Revenue', 'Stock Quantity', and 'Profit').  For example, the average 'Unit Price' is 515.44, while the average 'Profit' is 7559.76.  The standard deviation and percentiles give a sense of the data's spread and distribution.\n",
      "59.76.  The standard deviation and percentiles give a sense of the data's spread and distribution.\n",
      "\u001b[0m\n",
      "\n",
      "\u001b[1m> Finished chain.\u001b[0m\n"
     ]
    }
   ],
   "source": [
    "query = \"describe statistic this df\"\n",
    "response = da_agent(query)\n",
    "\n"
   ]
  },
  {
   "cell_type": "code",
   "execution_count": 91,
   "metadata": {},
   "outputs": [
    {
     "name": "stdout",
     "output_type": "stream",
     "text": [
      "```python\n",
      "import pandas as pd\n",
      "data = {'Store Name': {0: '7-Eleven', 1: '7-Eleven', 2: '7-Eleven', 3: '7-Eleven', 4: '7-Eleven'}, 'Date': {0: '2023/1/8', 1: '2023/1/23', 2: '2023/2/2', 3: '2023/3/8', 4: '2023/1/29'}, 'Product': {0: 'Bakery', 1: 'Bakery', 2: 'Bakery', 3: 'Bakery', 4: 'Beef Bowl'}, 'Unit Price': {0: 623.95, 1: 714.97, 2: 174.14, 3: 816.88, 4: 247.26}, 'Sales': {0: 33, 1: 40, 2: 41, 3: 44, 4: 9}, 'Revenue': {0: 20590.3, 1: 28598.8, 2: 7139.74, 3: 35942.7, 4: 2225.34}, 'Stock Quantity': {0: 67, 1: 46, 2: 79, 3: 37, 4: 23}, 'Profit': {0: 8236.14, 1: 11439.5, 2: 2855.9, 3: 14377.1, 4: 890.136}, 'Store Address': {0: 'Osaka, Japan', 1: 'Osaka, Japan', 2: 'Osaka, Japan', 3: 'Osaka, Japan', 4: 'Osaka, Japan'}, 'Postal Code': {0: '530-0001', 1: '530-0001', 2: '530-0001', 3: '530-0001', 4: '530-0001'}}\n",
      "df = pd.DataFrame(data)\n",
      "df.describe()\n",
      "```\n"
     ]
    }
   ],
   "source": [
    "print(response[\"intermediate_steps\"][-1][0].tool_input)"
   ]
  }
 ],
 "metadata": {
  "kernelspec": {
   "display_name": ".venv",
   "language": "python",
   "name": "python3"
  },
  "language_info": {
   "codemirror_mode": {
    "name": "ipython",
    "version": 3
   },
   "file_extension": ".py",
   "mimetype": "text/x-python",
   "name": "python",
   "nbconvert_exporter": "python",
   "pygments_lexer": "ipython3",
   "version": "3.10.11"
  }
 },
 "nbformat": 4,
 "nbformat_minor": 2
}
